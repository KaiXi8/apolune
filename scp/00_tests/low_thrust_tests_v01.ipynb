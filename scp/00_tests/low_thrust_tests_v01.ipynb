{
 "cells": [
  {
   "cell_type": "code",
   "execution_count": 20,
   "metadata": {},
   "outputs": [],
   "source": [
    "import numpy as np\n",
    "\n",
    "n_x = 7\n",
    "n_u = 4\n",
    "\n",
    "mu = 1.32712440018e11 # [km^3/s^2] \n",
    "LU = 1.49597870700e8 # [km]\n",
    "VU = np.sqrt(mu/LU)\n",
    "TU = LU / VU\n",
    "ACU = VU / TU\n",
    "MU = 22.6 # [kg]\n",
    "FU = MU * ACU / 1e-3\n",
    "\n",
    "Tmax_dim = 2.2519*1e-3 # [N]\n",
    "Tmax = Tmax_dim / FU\n",
    "\n",
    "control = np.array([\n",
    "    [0.0126032361772518, 0.0104909382731348, 0.00400692926488865, 0.0168806643845008],\n",
    "    # [0.0117099524590445, 0.0114904574256986, 0.00407120679448370, 0.0169035003222798], # original\n",
    "    [0.0117099524590445, -0.0114904574256986, 0.01407120679448370, 0.0269035003222798], # modified\n",
    "    [0.0107435537966332, 0.0124172496144517, 0.00410985607326636, 0.0169263981120954],\n",
    "    [0.00971033377370852, 0.0132662139678058, 0.00412282937859246, 0.0169493580131784],\n",
    "    [0.00861680349232048, 0.0140327754308632, 0.00411018293654762, 0.0169723802816996]\n",
    "    ])\n",
    "state = np.array([\n",
    "    [-0.631563235209630, 0.762457867805137, 0.000663834796631957, -0.801667334375496, -0.653698485420686, -0.00704403766006251, -0.00462747923533590],\n",
    "    [-0.694115062339908, 0.707161311974163, 0.000106123456867253, -0.745521575947428, -0.713964262530691, -0.00674948553276759, -0.00597934964424364],\n",
    "    [-0.751934321496121, 0.647195539593651, -0.000425754980106614, -0.684628934342544, -0.769181820379096, -0.00640547770630962, -0.00733305008428176],\n",
    "    [-0.804657832744992, 0.582984573198100, -0.000927991071931444, -0.619501010096818, -0.818964129562718, -0.00601672247287413, -0.00868858551583103],\n",
    "    [-0.851965031608924, 0.514981215346530, -0.00139717234035299, -0.550679332768423, -0.862986348271962, -0.00558832233678170, -0.0100459609198960]\n",
    "    ])\n",
    "\n",
    "u_mag = control[:, n_u - 1]\n",
    "z = state[:, n_x - 1]\n",
    "\n",
    "\n"
   ]
  },
  {
   "cell_type": "code",
   "execution_count": 15,
   "metadata": {},
   "outputs": [],
   "source": [
    "umag_violations = np.maximum(0, u_mag - Tmax * np.exp(-z))\n",
    "umag_violations_total = np.sum(umag_violations)"
   ]
  },
  {
   "cell_type": "code",
   "execution_count": 16,
   "metadata": {},
   "outputs": [],
   "source": [
    "control_norm_violations = np.linalg.norm(control[:, :3], axis=1) - u_mag\n",
    "control_norm_violations_total = np.linalg.norm(control_norm_violations.ravel(), ord=1)  # L1 norm"
   ]
  },
  {
   "cell_type": "code",
   "execution_count": 21,
   "metadata": {},
   "outputs": [],
   "source": [
    "umag_bounds_violations = np.minimum(0, u_mag)\n",
    "umag_bounds_violations_total = np.sum(umag_bounds_violations)"
   ]
  },
  {
   "cell_type": "code",
   "execution_count": 23,
   "metadata": {},
   "outputs": [
    {
     "name": "stdout",
     "output_type": "stream",
     "text": [
      "[[ 0.   0.   0.   0. ]\n",
      " [ 0.   0.   0.   0. ]\n",
      " [ 0.   0.   0.   0. ]\n",
      " [ 1.   0.   0.   0. ]\n",
      " [ 0.   1.   0.   0. ]\n",
      " [ 0.   0.   1.   0. ]\n",
      " [ 0.   0.   0.  -0.1]]\n"
     ]
    }
   ],
   "source": [
    "u_stm = np.zeros((7, 4))\n",
    "u_stm[3:6, 0:3] = np.eye(3)\n",
    "u_stm[-1, -1] = -1/10\n",
    "print(u_stm)"
   ]
  },
  {
   "cell_type": "code",
   "execution_count": null,
   "metadata": {},
   "outputs": [],
   "source": []
  }
 ],
 "metadata": {
  "kernelspec": {
   "display_name": "env-cyipopt",
   "language": "python",
   "name": "python3"
  },
  "language_info": {
   "codemirror_mode": {
    "name": "ipython",
    "version": 3
   },
   "file_extension": ".py",
   "mimetype": "text/x-python",
   "name": "python",
   "nbconvert_exporter": "python",
   "pygments_lexer": "ipython3",
   "version": "3.12.7"
  }
 },
 "nbformat": 4,
 "nbformat_minor": 2
}
